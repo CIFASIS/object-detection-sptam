{
 "cells": [
  {
   "cell_type": "code",
   "execution_count": 1,
   "metadata": {
    "_draft": {
     "init_cell": true
    },
    "code_folding": [
     1
    ],
    "collapsed": false
   },
   "outputs": [
    {
     "data": {
      "text/plain": [
       "'/home/zfmgpu/.config/matplotlib'"
      ]
     },
     "execution_count": 1,
     "metadata": {},
     "output_type": "execute_result"
    }
   ],
   "source": [
    "import sys,os,imp,re\n",
    "import math\n",
    "import numpy as np\n",
    "import matplotlib as mpl\n",
    "\n",
    "import matplotlib.cm as cm\n",
    "import matplotlib.pyplot as plt\n",
    "\n",
    "import matplotlib.colors as colors\n",
    "import matplotlib.cm as cmx\n",
    "from mpl_toolkits.mplot3d import Axes3D\n",
    "\n",
    "\n",
    "mpl.rcParams['figure.figsize']=(6.0,4.0)    #(6.0,4.0)\n",
    "mpl.rcParams['font.size']=10                #10 \n",
    "mpl.rcParams['savefig.dpi']=400             #72 \n",
    "mpl.rcParams['figure.subplot.bottom']=.1    #.125\n",
    "\n",
    "plt.rc('font', family='serif')\n",
    "plt.rc('text', usetex=True)\n",
    "\n",
    "#inline Shit\n",
    "%matplotlib inline\n",
    "%config InlineBackend.figure_format='svg'\n",
    "%config InlineBackend.rc = {'figure.facecolor': 'white', 'figure.subplot.bottom': 0.125, 'figure.edgecolor': 'white', 'savefig.dpi': 400, 'figure.figsize': (12.0, 8.0), 'font.size': 10}\n",
    "\n",
    "#GUi shit\n",
    "%matplotlib tk\n",
    "mpl.get_configdir()"
   ]
  },
  {
   "cell_type": "code",
   "execution_count": 2,
   "metadata": {
    "_draft": {
     "init_cell": true
    },
    "code_folding": [
     1,
     29,
     37,
     47
    ],
    "collapsed": false
   },
   "outputs": [],
   "source": [
    "\n",
    "def plotCube(ax,minP = np.array([-1.0,-1.0,-1.0]), maxP=np.array([1.0,1.0,1.0]),\n",
    "             trans= np.array([0.0,0.0,0.0]),rotationMatrix=np.diag([1,1,1])):\n",
    "    from itertools import product, combinations\n",
    "    r = [-1, 1]\n",
    "    \n",
    "    centerPos = (maxP + minP)/2.0;\n",
    "    #print(centerPos)\n",
    "    extent = (maxP - minP)/2.0;\n",
    "    \n",
    "    points = np.array([(-1, -1, -1),\n",
    "                     (-1, -1, 1),\n",
    "                     (-1, 1, -1),\n",
    "                     (-1, 1, 1),\n",
    "                     (1, -1, -1),\n",
    "                     (1, -1, 1),\n",
    "                     (1, 1, -1),\n",
    "                     (1, 1, 1)]);\n",
    "    \n",
    "    for s, e in combinations(points, 2):\n",
    "        if np.sum(np.abs(s-e)) == r[1]-r[0]: # no diagonal lines\n",
    "            p1 = np.array(s,dtype=float); p2 = np.array(e,dtype=float);\n",
    "            #scale points\n",
    "            p1*=extent; p2*=extent;\n",
    "            #rotate and translate points\n",
    "            p1 = rotationMatrix.dot(p1 + centerPos) + trans;\n",
    "            p2 = rotationMatrix.dot(p2+centerPos) + trans;\n",
    "            ax.plot3D(*zip(p1,p2), color=\"b\")\n",
    "\n",
    "def plotAxis(ax,centerPos,A_IK,plotAxisScale=1):\n",
    "        for i,c in zip([0,1,2],['r','g','b']):\n",
    "            I_eK_i = A_IK[:,i];\n",
    "            lines = list(zip(centerPos,plotAxisScale*I_eK_i+centerPos))\n",
    "            v = Arrow3D(*lines, mutation_scale=50, lw=1, arrowstyle=\"-|>\", color=c);\n",
    "            ax.plot3D(*lines, color=c)\n",
    "            ax.add_artist(v);\n",
    "\n",
    "def plotAxis2d(ax,centerPos,u,v,plotAxisScale=1):\n",
    "    \n",
    "    x = np.vstack((centerPos,plotAxisScale*u+centerPos))\n",
    "    y = np.vstack((centerPos,plotAxisScale*v+centerPos))\n",
    "    ax.plot(x.T[0],x.T[1],'r',lw=2)\n",
    "    ax.plot(y.T[0],y.T[1],'b',lw=2)\n",
    "        \n",
    "            \n",
    "from matplotlib.patches import FancyArrowPatch\n",
    "from mpl_toolkits.mplot3d import proj3d\n",
    "class Arrow3D(FancyArrowPatch):\n",
    "        def __init__(self, xs, ys, zs, *args, **kwargs):\n",
    "            FancyArrowPatch.__init__(self, (0,0), (0,0), *args, **kwargs)\n",
    "            self._verts3d = xs, ys, zs\n",
    "     \n",
    "        def draw(self, renderer):\n",
    "            xs3d, ys3d, zs3d = self._verts3d\n",
    "            xs, ys, zs = proj3d.proj_transform(xs3d, ys3d, zs3d, renderer.M)\n",
    "            self.set_positions((xs[0],ys[0]),(xs[1],ys[1]))\n",
    "            FancyArrowPatch.draw(self, renderer)  \n"
   ]
  },
  {
   "cell_type": "code",
   "execution_count": 3,
   "metadata": {
    "_draft": {
     "init_cell": true
    },
    "collapsed": false
   },
   "outputs": [],
   "source": [
    "def axisEqual3D(ax):\n",
    "    extents = np.array([getattr(ax, 'get_{}lim'.format(dim))() for dim in 'xyz'])\n",
    "    sz = extents[:,1] - extents[:,0]\n",
    "    centers = np.mean(extents, axis=1)\n",
    "    maxsize = max(abs(sz))\n",
    "    r = maxsize/2\n",
    "    for ctr, dim in zip(centers, 'xyz'):\n",
    "        getattr(ax, 'set_{}lim'.format(dim))(ctr - r, ctr + r)"
   ]
  },
  {
   "cell_type": "code",
   "execution_count": 4,
   "metadata": {
    "_draft": {
     "init_cell": true
    },
    "collapsed": false
   },
   "outputs": [],
   "source": [
    "# get all files\n",
    "def loadFiles(folderPath,filePathRegex, keyNames):\n",
    "    files = [ os.path.join(folderPath,f) for f in os.listdir(folderPath) if os.path.isfile( os.path.join(folderPath,f) ) ]\n",
    "\n",
    "    filePaths=dict();\n",
    "    for f in files:\n",
    "        res = re.match(filePathRegex,f)\n",
    "        if(res):\n",
    "            key = res.group(1)\n",
    "            filePaths[key]= dict( [ (keyN, g) for keyN,g in zip(keyNames,res.groups()) ] )\n",
    "            filePaths[key][\"path\"] = f\n",
    "    return filePaths;"
   ]
  },
  {
   "cell_type": "code",
   "execution_count": 7,
   "metadata": {
    "_draft": {
     "init_cell": true
    },
    "collapsed": false
   },
   "outputs": [],
   "source": [
    "import struct\n",
    "def readPointsMatrixBinary(filePath):\n",
    "    f = open(filePath, \"br\")\n",
    "    # read header (rows,columns)\n",
    "    (bigEndian,) = struct.unpack(\"?\",f.read(1));\n",
    "    formatStringBO = \"<\"; # little endian\n",
    "    dtype = np.dtype(\"<f8\")\n",
    "    if(bigEndian):\n",
    "        formatStringBO = \">\";\n",
    "        dtype = np.dtype(\">f8\")\n",
    "    \n",
    "    (rows,cols,nbytes) = struct.unpack(\"%sQQQ\" % formatStringBO ,  f.read(3*np.int64(0).nbytes))\n",
    "    print(\"Matrix Binary: \" , rows,cols,nbytes, \"big Endian:\", bigEndian)                           \n",
    "    return np.fromfile(f,dtype=dtype);\n",
    "    "
   ]
  },
  {
   "cell_type": "markdown",
   "metadata": {},
   "source": [
    "Convex Hull Tests\n",
    "================="
   ]
  },
  {
   "cell_type": "code",
   "execution_count": 102,
   "metadata": {
    "collapsed": false,
    "scrolled": true
   },
   "outputs": [
    {
     "name": "stdout",
     "output_type": "stream",
     "text": [
      "Line2 {'path': './ConvexHullTest-Line2-double.bin', 'name': 'Line2', 'prec': 'double'} {'path': './ConvexHullTest-Line2-double-Out.bin', 'name': 'Line2', 'prec': 'double'}\n",
      "Matrix Binary:  2 2 8 big Endian: False\n",
      "Matrix Binary:  2 2 8 big Endian: False\n",
      "PointsBadProjectionFilter {'path': './ConvexHullTest-PointsBadProjectionFilter-double.bin', 'name': 'PointsBadProjectionFilter', 'prec': 'double'} {'path': './ConvexHullTest-PointsBadProjectionFilter-double-Out.bin', 'name': 'PointsBadProjectionFilter', 'prec': 'double'}\n",
      "Matrix Binary:  2 34 8 big Endian: False\n",
      "Matrix Binary:  2 7 8 big Endian: False\n",
      "PointsBadProjection2 {'path': './ConvexHullTest-PointsBadProjection2-double.bin', 'name': 'PointsBadProjection2', 'prec': 'double'} {'path': './ConvexHullTest-PointsBadProjection2-double-Out.bin', 'name': 'PointsBadProjection2', 'prec': 'double'}\n",
      "Matrix Binary:  2 400 8 big Endian: False\n",
      "Matrix Binary:  2 10 8 big Endian: False\n",
      "PointsOnCricle1000 {'path': './ConvexHullTest-PointsOnCricle1000-double.bin', 'name': 'PointsOnCricle1000', 'prec': 'double'} {'path': './ConvexHullTest-PointsOnCricle1000-double-Out.bin', 'name': 'PointsOnCricle1000', 'prec': 'double'}\n",
      "Matrix Binary:  2 1000 8 big Endian: False\n",
      "Matrix Binary:  2 1000 8 big Endian: False\n",
      "PointsBadProjection3 {'path': './ConvexHullTest-PointsBadProjection3-double.bin', 'name': 'PointsBadProjection3', 'prec': 'double'} {'path': './ConvexHullTest-PointsBadProjection3-double-Out.bin', 'name': 'PointsBadProjection3', 'prec': 'double'}\n",
      "Matrix Binary:  2 400 8 big Endian: False\n",
      "Matrix Binary:  2 8 8 big Endian: False\n",
      "Points2DRectFail {'path': './ConvexHullTest-Points2DRectFail-double.bin', 'name': 'Points2DRectFail', 'prec': 'double'} {'path': './ConvexHullTest-Points2DRectFail-double-Out.bin', 'name': 'Points2DRectFail', 'prec': 'double'}\n",
      "Matrix Binary:  2 18 8 big Endian: False\n",
      "Matrix Binary:  2 8 8 big Endian: False\n",
      "PointsBadProjection5 {'path': './ConvexHullTest-PointsBadProjection5-double.bin', 'name': 'PointsBadProjection5', 'prec': 'double'} {'path': './ConvexHullTest-PointsBadProjection5-double-Out.bin', 'name': 'PointsBadProjection5', 'prec': 'double'}\n",
      "Matrix Binary:  2 5 8 big Endian: False\n",
      "Matrix Binary:  2 4 8 big Endian: False\n",
      "Point {'path': './ConvexHullTest-Point-double.bin', 'name': 'Point', 'prec': 'double'} {'path': './ConvexHullTest-Point-double-Out.bin', 'name': 'Point', 'prec': 'double'}\n",
      "Matrix Binary:  2 1 8 big Endian: False\n",
      "Matrix Binary:  2 1 8 big Endian: False\n",
      "Line4 {'path': './ConvexHullTest-Line4-double.bin', 'name': 'Line4', 'prec': 'double'} {'path': './ConvexHullTest-Line4-double-Out.bin', 'name': 'Line4', 'prec': 'double'}\n",
      "Matrix Binary:  2 5 8 big Endian: False\n",
      "Matrix Binary:  2 3 8 big Endian: False\n",
      "PointsBadProjection6 {'path': './ConvexHullTest-PointsBadProjection6-double.bin', 'name': 'PointsBadProjection6', 'prec': 'double'} {'path': './ConvexHullTest-PointsBadProjection6-double-Out.bin', 'name': 'PointsBadProjection6', 'prec': 'double'}\n",
      "Matrix Binary:  2 100 8 big Endian: False\n",
      "Matrix Binary:  2 8 8 big Endian: False\n",
      "PointsRandom10 {'path': './ConvexHullTest-PointsRandom10-double.bin', 'name': 'PointsRandom10', 'prec': 'double'} {'path': './ConvexHullTest-PointsRandom10-double-Out.bin', 'name': 'PointsRandom10', 'prec': 'double'}\n",
      "Matrix Binary:  2 10 8 big Endian: False\n",
      "Matrix Binary:  2 5 8 big Endian: False\n",
      "PointsBadProjection {'path': './ConvexHullTest-PointsBadProjection-double.bin', 'name': 'PointsBadProjection', 'prec': 'double'} {'path': './ConvexHullTest-PointsBadProjection-double-Out.bin', 'name': 'PointsBadProjection', 'prec': 'double'}\n",
      "Matrix Binary:  2 400 8 big Endian: False\n",
      "Matrix Binary:  2 14 8 big Endian: False\n",
      "Triangle {'path': './ConvexHullTest-Triangle-double.bin', 'name': 'Triangle', 'prec': 'double'} {'path': './ConvexHullTest-Triangle-double-Out.bin', 'name': 'Triangle', 'prec': 'double'}\n",
      "Matrix Binary:  2 3 8 big Endian: False\n",
      "Matrix Binary:  2 3 8 big Endian: False\n",
      "PointsBadProjection4 {'path': './ConvexHullTest-PointsBadProjection4-double.bin', 'name': 'PointsBadProjection4', 'prec': 'double'} {'path': './ConvexHullTest-PointsBadProjection4-double-Out.bin', 'name': 'PointsBadProjection4', 'prec': 'double'}\n",
      "Matrix Binary:  2 16 8 big Endian: False\n",
      "Matrix Binary:  2 7 8 big Endian: False\n",
      "Line3 {'path': './ConvexHullTest-Line3-double.bin', 'name': 'Line3', 'prec': 'double'} {'path': './ConvexHullTest-Line3-double-Out.bin', 'name': 'Line3', 'prec': 'double'}\n",
      "Matrix Binary:  2 3 8 big Endian: False\n",
      "Matrix Binary:  2 2 8 big Endian: False\n"
     ]
    },
    {
     "name": "stderr",
     "output_type": "stream",
     "text": [
      "/opt/python3.4Env/lib/python3.4/site-packages/matplotlib/text.py:1857: UserWarning: You have used the `textcoords` kwarg, but not the `xytext` kwarg.  This can lead to surprising results.\n",
      "  warnings.warn(\"You have used the `textcoords` kwarg, but not \"\n",
      "/opt/python3.4Env/lib/python3.4/site-packages/matplotlib/collections.py:590: FutureWarning: elementwise comparison failed; returning scalar instead, but in the future will perform elementwise comparison\n",
      "  if self._edgecolors == str('face'):\n"
     ]
    }
   ],
   "source": [
    "plt.close(\"all\")\n",
    "\n",
    "files = loadFiles(\"./\" , \".*ConvexHullTest-(\\w*)-(\\w*)\\.bin\", (\"name\",\"prec\") );\n",
    "filesOut = loadFiles(\"./\" , \".*ConvexHullTest-(\\w*)-(\\w*)-Out\\.bin\", (\"name\",\"prec\"));\n",
    "\n",
    "for i,f in files.items():\n",
    "    \n",
    "    fOut = filesOut[i]; print(i,f,fOut)\n",
    "    fig = plt.figure(\"ConvexHullTest\"+str(i),(10,10))\n",
    "    \n",
    "    if(i!=\"PointsRandom14M\"):\n",
    "        points = readPointsMatrixBinary(f[\"path\"]); points=np.reshape(points,(-1,2)) \n",
    "        \n",
    "    hullP =  readPointsMatrixBinary(fOut[\"path\"]); hullP=np.reshape(hullP,(-1,2))\n",
    "    hullP = np.vstack((hullP,hullP[0]))\n",
    "    \n",
    "    plt.plot(hullP.T[0],hullP.T[1],'b-o', ms=20, markerfacecolor='None')\n",
    "    \n",
    "    if(i!=\"PointsRandom14M\"):\n",
    "        plt.scatter(points.T[0],points.T[1],c='r')\n",
    "        if(len(points)<300):\n",
    "            nrRange = [(i,p[0],p[1])  for i,p in enumerate(points) ]\n",
    "            for x in nrRange:      \n",
    "                plt.annotate('%s' % x[0], xy=x[1:3], textcoords='offset points') # <--\n",
    "    \n",
    "#     if(len(hullP)<300):\n",
    "#         nrRange = [(i,p[0],p[1])  for i,p in enumerate(hullP) ]\n",
    "#         for x in nrRange:      \n",
    "#             plt.annotate('%s' % x[0], xy=x[1:3], textcoords='offset points') # <--\n"
   ]
  },
  {
   "cell_type": "markdown",
   "metadata": {},
   "source": [
    "Min Area Rectangle Tests\n",
    "========================"
   ]
  },
  {
   "cell_type": "code",
   "execution_count": 8,
   "metadata": {
    "collapsed": false,
    "scrolled": true
   },
   "outputs": [
    {
     "name": "stdout",
     "output_type": "stream",
     "text": [
      "Points2DRectFail {'prec': 'double', 'name': 'Points2DRectFail', 'path': './MinAreaRectangleTest-Points2DRectFail-double.bin'} {'prec': 'double', 'name': 'Points2DRectFail', 'path': './MinAreaRectangleTest-Points2DRectFail-double-Out.bin'}\n",
      "Matrix Binary:  2 18 8 big Endian: False\n",
      "Matrix Binary:  2 7 8 big Endian: False\n",
      "[[ 3.38826761 -2.60794988]\n",
      " [-0.39487855  0.91873333]\n",
      " [-0.91873333 -0.39487855]]\n",
      "AlmostLine {'prec': 'double', 'name': 'AlmostLine', 'path': './MinAreaRectangleTest-AlmostLine-double.bin'} {'prec': 'double', 'name': 'AlmostLine', 'path': './MinAreaRectangleTest-AlmostLine-double-Out.bin'}\n",
      "Matrix Binary: "
     ]
    },
    {
     "name": "stderr",
     "output_type": "stream",
     "text": [
      "/opt/python3.4Env/lib/python3.4/site-packages/matplotlib/collections.py:590: FutureWarning: elementwise comparison failed; returning scalar instead, but in the future will perform elementwise comparison\n",
      "  if self._edgecolors == str('face'):\n",
      "/opt/python3.4Env/lib/python3.4/site-packages/matplotlib/collections.py:590: FutureWarning: elementwise comparison failed; returning scalar instead, but in the future will perform elementwise comparison\n",
      "  if self._edgecolors == str('face'):\n"
     ]
    },
    {
     "name": "stdout",
     "output_type": "stream",
     "text": [
      " 2 4 8 big Endian: False\n",
      "Matrix Binary:  2 7 8 big Endian: False\n",
      "[[ 0.          0.        ]\n",
      " [ 0.70710678  0.70710678]\n",
      " [-0.70710678  0.70710678]]\n",
      "Point {'prec': 'double', 'name': 'Point', 'path': './MinAreaRectangleTest-Point-double.bin'} {'prec': 'double', 'name': 'Point', 'path': './MinAreaRectangleTest-Point-double-Out.bin'}\n",
      "Matrix Binary:  2 1 8 big Endian: False\n",
      "Matrix Binary:  2 7 8 big Endian: False\n",
      "[[ 1.  0.]\n",
      " [ 1.  0.]\n",
      " [ 0.  1.]]\n",
      "TwoPoints {'prec': 'double', 'name': 'TwoPoints', 'path': './MinAreaRectangleTest-TwoPoints-double.bin'} {'prec': 'double', 'name': 'TwoPoints', 'path': './MinAreaRectangleTest-TwoPoints-double-Out.bin'}\n",
      "Matrix Binary:  2 2 8 big Endian: False\n",
      "Matrix Binary:  2 7 8 big Endian: False\n",
      "[[ 1.          0.        ]\n",
      " [ 0.5547002   0.83205029]\n",
      " [-0.83205029  0.5547002 ]]\n",
      "PointsRandom10 {'prec': 'double', 'name': 'PointsRandom10', 'path': './MinAreaRectangleTest-PointsRandom10-double.bin'} {'prec': 'double', 'name': 'PointsRandom10', 'path': './MinAreaRectangleTest-PointsRandom10-double-Out.bin'}\n",
      "Matrix Binary:  2 10 8 big Endian: False\n",
      "Matrix Binary:  2 7 8 big Endian: False\n",
      "[[ 0.95782081  0.95453227]\n",
      " [-0.91190368 -0.41040429]\n",
      " [ 0.41040429 -0.91190368]]\n",
      "PointsRandom10M {'prec': 'double', 'name': 'PointsRandom10M', 'path': './MinAreaRectangleTest-PointsRandom10M-double.bin'} {'prec': 'double', 'name': 'PointsRandom10M', 'path': './MinAreaRectangleTest-PointsRandom10M-double-Out.bin'}\n",
      "Matrix Binary:  2 7 8 big Endian: False\n",
      "[[  9.99999818e-01   1.82427005e-07]\n",
      " [ -8.15560543e-08   1.00000000e+00]\n",
      " [ -1.00000000e+00  -8.15560543e-08]]\n",
      "PointsBadProjection2 {'prec': 'double', 'name': 'PointsBadProjection2', 'path': './MinAreaRectangleTest-PointsBadProjection2-double.bin'} {'prec': 'double', 'name': 'PointsBadProjection2', 'path': './MinAreaRectangleTest-PointsBadProjection2-double-Out.bin'}\n",
      "Matrix Binary:  2 400 8 big Endian: False\n",
      "Matrix Binary:  2 7 8 big Endian: False\n",
      "[[ 3.16181212  5.70506863]\n",
      " [-0.99843392  0.05594372]\n",
      " [-0.05594372 -0.99843392]]\n",
      "RandomTriangle {'prec': 'double', 'name': 'RandomTriangle', 'path': './MinAreaRectangleTest-RandomTriangle-double.bin'} {'prec': 'double', 'name': 'RandomTriangle', 'path': './MinAreaRectangleTest-RandomTriangle-double-Out.bin'}\n",
      "Matrix Binary:  2 3 8 big Endian: False\n",
      "Matrix Binary:  2 7 8 big Endian: False\n",
      "[[ 0.22053406  0.68698046]\n",
      " [ 0.99700658  0.07731678]\n",
      " [-0.07731678  0.99700658]]\n",
      "PointsBadProjection3 {'prec': 'double', 'name': 'PointsBadProjection3', 'path': './MinAreaRectangleTest-PointsBadProjection3-double.bin'} {'prec': 'double', 'name': 'PointsBadProjection3', 'path': './MinAreaRectangleTest-PointsBadProjection3-double-Out.bin'}\n",
      "Matrix Binary:  2 400 8 big Endian: False\n",
      "Matrix Binary:  2 7 8 big Endian: False\n",
      "[[ 1.43898234 -5.6280445 ]\n",
      " [ 0.57332627  0.81932715]\n",
      " [-0.81932715  0.57332627]]\n",
      "UnitRectangle {'prec': 'double', 'name': 'UnitRectangle', 'path': './MinAreaRectangleTest-UnitRectangle-double.bin'} {'prec': 'double', 'name': 'UnitRectangle', 'path': './MinAreaRectangleTest-UnitRectangle-double-Out.bin'}\n",
      "Matrix Binary:  2 4 8 big Endian: False\n",
      "Matrix Binary:  2 7 8 big Endian: False\n",
      "[[  1.00000000e+00   1.00000000e+00]\n",
      " [ -1.00000000e+00   2.22044605e-16]\n",
      " [ -2.22044605e-16  -1.00000000e+00]]\n",
      "PointsOnCricle1000 {'prec': 'double', 'name': 'PointsOnCricle1000', 'path': './MinAreaRectangleTest-PointsOnCricle1000-double.bin'} {'prec': 'double', 'name': 'PointsOnCricle1000', 'path': './MinAreaRectangleTest-PointsOnCricle1000-double-Out.bin'}\n",
      "Matrix Binary:  2 1000 8 big Endian: False\n",
      "Matrix Binary:  2 7 8 big Endian: False\n",
      "[[  9.99999995e-01   9.98999998e-05]\n",
      " [  4.99499997e-05  -9.99999999e-01]\n",
      " [  9.99999999e-01   4.99499997e-05]]\n",
      "Triangle {'prec': 'double', 'name': 'Triangle', 'path': './MinAreaRectangleTest-Triangle-double.bin'} {'prec': 'double', 'name': 'Triangle', 'path': './MinAreaRectangleTest-Triangle-double-Out.bin'}\n",
      "Matrix Binary:  2 3 8 big Endian: False\n",
      "Matrix Binary:  2 7 8 big Endian: False\n",
      "[[  1.00000000e+00  -1.00000000e+00]\n",
      " [  1.11022302e-16   1.00000000e+00]\n",
      " [ -1.00000000e+00   1.11022302e-16]]\n",
      "Line2 {'prec': 'double', 'name': 'Line2', 'path': './MinAreaRectangleTest-Line2-double.bin'} {'prec': 'double', 'name': 'Line2', 'path': './MinAreaRectangleTest-Line2-double-Out.bin'}\n",
      "Matrix Binary:  2 2 8 big Endian: False\n",
      "Matrix Binary:  2 7 8 big Endian: False\n",
      "[[ 0.          0.        ]\n",
      " [ 0.70710678  0.70710678]\n",
      " [-0.70710678  0.70710678]]\n",
      "Line3 {'prec': 'double', 'name': 'Line3', 'path': './MinAreaRectangleTest-Line3-double.bin'} {'prec': 'double', 'name': 'Line3', 'path': './MinAreaRectangleTest-Line3-double-Out.bin'}\n",
      "Matrix Binary:  2 3 8 big Endian: False\n",
      "Matrix Binary:  2 7 8 big Endian: False\n",
      "[[ 0.          0.        ]\n",
      " [ 0.70710678  0.70710678]\n",
      " [-0.70710678  0.70710678]]\n",
      "PointsBadProjection {'prec': 'double', 'name': 'PointsBadProjection', 'path': './MinAreaRectangleTest-PointsBadProjection-double.bin'} {'prec': 'double', 'name': 'PointsBadProjection', 'path': './MinAreaRectangleTest-PointsBadProjection-double-Out.bin'}\n",
      "Matrix Binary:  2 400 8 big Endian: False\n",
      "Matrix Binary:  2 7 8 big Endian: False\n",
      "[[ 1.1210723  -3.36871442]\n",
      " [-0.05435405  0.99852173]\n",
      " [-0.99852173 -0.05435405]]\n"
     ]
    }
   ],
   "source": [
    "plt.close(\"all\")\n",
    "\n",
    "files = loadFiles(\"./\" , \".*MinAreaRectangleTest-(\\w*)-(\\w*).bin\", (\"name\",\"prec\") );\n",
    "filesOut = loadFiles(\"./\" , \".*MinAreaRectangleTest-(\\w*)-(\\w*)-Out\\.bin\", (\"name\",\"prec\"));\n",
    "\n",
    "\n",
    "for i,f in files.items():\n",
    "    if(i in [\"NoPoint\"]): continue \n",
    "        \n",
    "    fOut = filesOut[i]; print(i,f,fOut)\n",
    "    fig = plt.figure(\"MinAreaRectangleTest\"+str(i),(10,10))\n",
    "    ax = fig.gca();\n",
    "    \n",
    "    if(i!=\"PointsRandom10M\"):\n",
    "        points = readPointsMatrixBinary(f[\"path\"]); points=np.reshape(points,(-1,2)) \n",
    "    \n",
    "    rectData =  readPointsMatrixBinary(fOut[\"path\"]); rectData=np.reshape(rectData,(-1,2))\n",
    "    \n",
    "    rect = rectData[0:4,]\n",
    "    rect = np.vstack([rect,rect[0]])\n",
    "    axis = rectData[4:,]\n",
    "    print(axis)\n",
    "    plt.plot(rect.T[0],rect.T[1],'r-', ms=20, markerfacecolor='None')\n",
    "    \n",
    "    plotAxis2d(ax,rect[0],axis[0],axis[1]);\n",
    "    \n",
    "    if(i!=\"PointsRandom10M\"):\n",
    "        plt.scatter(points.T[0],points.T[1])\n",
    "    else:\n",
    "        plt.scatter(points.T[0][0:400],points.T[1][0:400])\n",
    "    plt.axis('equal')"
   ]
  },
  {
   "cell_type": "markdown",
   "metadata": {},
   "source": [
    "Diameter MVBB Tests\n",
    "========================"
   ]
  },
  {
   "cell_type": "code",
   "execution_count": 107,
   "metadata": {
    "collapsed": false
   },
   "outputs": [
    {
     "name": "stdout",
     "output_type": "stream",
     "text": [
      "Plane {'path': './DiameterOOBBTest-Plane-double.bin', 'name': 'Plane', 'prec': 'double'} {'path': './DiameterOOBBTest-Plane-double-Out.txt', 'name': 'Plane', 'prec': 'double'} {'path': './DiameterOOBBTest-Plane-double-Out2.bin', 'name': 'Plane', 'prec': 'double'}\n",
      "Matrix Binary:  3 3 8 big Endian: False\n",
      "Matrix Binary:  3 2 8 big Endian: False\n",
      "UnitCube {'path': './DiameterOOBBTest-UnitCube-double.bin', 'name': 'UnitCube', 'prec': 'double'} {'path': './DiameterOOBBTest-UnitCube-double-Out.txt', 'name': 'UnitCube', 'prec': 'double'} {'path': './DiameterOOBBTest-UnitCube-double-Out2.bin', 'name': 'UnitCube', 'prec': 'double'}\n",
      "Matrix Binary:  3 8 8 big Endian: False\n",
      "Matrix Binary:  3 4 8 big Endian: False\n",
      "PointsSimulationFailMVBB {'path': './DiameterOOBBTest-PointsSimulationFailMVBB-double.bin', 'name': 'PointsSimulationFailMVBB', 'prec': 'double'} {'path': './DiameterOOBBTest-PointsSimulationFailMVBB-double-Out.txt', 'name': 'PointsSimulationFailMVBB', 'prec': 'double'} {'path': './DiameterOOBBTest-PointsSimulationFailMVBB-double-Out2.bin', 'name': 'PointsSimulationFailMVBB', 'prec': 'double'}\n",
      "Matrix Binary:  3 2501 8 big Endian: False\n",
      "Matrix Binary:  3 400 8 big Endian: False\n",
      "PointsRandom10000 {'path': './DiameterOOBBTest-PointsRandom10000-double.bin', 'name': 'PointsRandom10000', 'prec': 'double'} {'path': './DiameterOOBBTest-PointsRandom10000-double-Out.txt', 'name': 'PointsRandom10000', 'prec': 'double'} {'path': './DiameterOOBBTest-PointsRandom10000-double-Out2.bin', 'name': 'PointsRandom10000', 'prec': 'double'}\n",
      "Matrix Binary:  3 10000 8 big Endian: False\n",
      "Matrix Binary:  3 400 8 big Endian: False\n",
      "PointsSimulation {'path': './DiameterOOBBTest-PointsSimulation-double.bin', 'name': 'PointsSimulation', 'prec': 'double'} {'path': './DiameterOOBBTest-PointsSimulation-double-Out.txt', 'name': 'PointsSimulation', 'prec': 'double'} {'path': './DiameterOOBBTest-PointsSimulation-double-Out2.bin', 'name': 'PointsSimulation', 'prec': 'double'}\n",
      "Matrix Binary:  3 2501 8 big Endian: False\n",
      "Matrix Binary:  3 400 8 big Endian: False\n",
      "PointsRandom500 {'path': './DiameterOOBBTest-PointsRandom500-double.bin', 'name': 'PointsRandom500', 'prec': 'double'} {'path': './DiameterOOBBTest-PointsRandom500-double-Out.txt', 'name': 'PointsRandom500', 'prec': 'double'} {'path': './DiameterOOBBTest-PointsRandom500-double-Out2.bin', 'name': 'PointsRandom500', 'prec': 'double'}\n",
      "Matrix Binary:  3 500 8 big Endian: False\n",
      "Matrix Binary:  3 400 8 big Endian: False\n"
     ]
    },
    {
     "name": "stderr",
     "output_type": "stream",
     "text": [
      "/opt/python3.4Env/lib/python3.4/site-packages/matplotlib/collections.py:590: FutureWarning: elementwise comparison failed; returning scalar instead, but in the future will perform elementwise comparison\n",
      "  if self._edgecolors == str('face'):\n"
     ]
    }
   ],
   "source": [
    "plt.close(\"all\")\n",
    "\n",
    "files = loadFiles(\"./\" , \".*DiameterOOBBTest-(\\w*)-(\\w*)\\.bin\", (\"name\",\"prec\") );\n",
    "filesOut = loadFiles(\"./\" , \".*DiameterOOBBTest-(\\w*)-(\\w*)-Out\\.txt\", (\"name\",\"prec\") );\n",
    "filesOut2 = loadFiles(\"./\" , \".*DiameterOOBBTest-(\\w*)-(\\w*)-Out2\\.bin\", (\"name\",\"prec\") );\n",
    "\n",
    "for i,f in files.items():\n",
    "        \n",
    "    fOut = filesOut[i]; fOut2 = filesOut2[i]; print(i,f,fOut,fOut2)\n",
    "    fig = plt.figure(\"DiameterTest\"+str(i),(10,10))\n",
    "    \n",
    "    points = readPointsMatrixBinary(f[\"path\"]); points=np.reshape(points,(-1,3)) \n",
    "    OOBB = np.atleast_2d(np.loadtxt(fOut[\"path\"]));\n",
    "    sampled = readPointsMatrixBinary(fOut2[\"path\"]); sampled=np.reshape(sampled,(-1,3)) \n",
    "\n",
    "    K_min = OOBB[0,0:3]\n",
    "    K_max = OOBB[1,0:3]\n",
    "    A_IK = OOBB[2:,0:3]\n",
    "    center = np.zeros((3,));\n",
    "    #print(A_IK,K_min,K_max,center)\n",
    "\n",
    "    ax = Axes3D(fig)\n",
    "    if(i not in [\"PointsRandom14M\", \"Lucy\"] ):\n",
    "        ax.scatter(points.T[0],points.T[1],points.T[2],c='b')\n",
    "    else:\n",
    "        plt.scatter(points.T[0][0:2000],points.T[1][0:2000])\n",
    "    \n",
    "    ax.scatter(sampled.T[0],sampled.T[1],sampled.T[2],c='r', marker='o', s=200)\n",
    "    plotCube(ax,K_min,K_max,center,A_IK) # A_IK = R_KI (rotation from I to K)\n",
    "    plotAxis(ax,center,A_IK,1)\n",
    "    plotAxis(ax,center,np.identity(3),0.5)\n",
    "    axisEqual3D(ax)"
   ]
  },
  {
   "cell_type": "markdown",
   "metadata": {},
   "source": [
    "MVBB Tests\n",
    "========================"
   ]
  },
  {
   "cell_type": "code",
   "execution_count": 10,
   "metadata": {
    "collapsed": false
   },
   "outputs": [],
   "source": [
    "plt.close(\"all\")"
   ]
  },
  {
   "cell_type": "code",
   "execution_count": 26,
   "metadata": {
    "collapsed": false
   },
   "outputs": [
    {
     "name": "stdout",
     "output_type": "stream",
     "text": [
      "TwoPoints {'name': 'TwoPoints', 'prec': 'double', 'path': './MVBBTest-TwoPoints-double.bin'} {'name': 'TwoPoints', 'prec': 'double', 'path': './MVBBTest-TwoPoints-double-Out.txt'}\n",
      "Matrix Binary:  3 2 8 big Endian: False\n",
      "[[-0.57735027  0.36514837 -0.73029674]\n",
      " [-0.57735027 -0.81502972  0.04892061]\n",
      " [-0.57735027  0.44988135  0.68137614]] [ -1.73205081e+00  -5.00111022e-13  -5.00000000e-13] [ -0.00000000e+00   4.99888978e-13   5.00000000e-13] [ 0.  0.  0.]\n"
     ]
    },
    {
     "name": "stderr",
     "output_type": "stream",
     "text": [
      "/opt/python3.4Env/lib/python3.4/site-packages/matplotlib/collections.py:590: FutureWarning: elementwise comparison failed; returning scalar instead, but in the future will perform elementwise comparison\n",
      "  if self._edgecolors == str('face'):\n"
     ]
    }
   ],
   "source": [
    "plt.close(\"all\")\n",
    "\n",
    "files = loadFiles(\"./\" , \".*MVBBTest-(\\w*)-(\\w*).bin\", (\"name\",\"prec\") );\n",
    "filesOut = loadFiles(\"./\" , \".*MVBBTest-(\\w*)-(\\w*)-Out\\.txt\", (\"name\",\"prec\"));\n",
    "\n",
    "\n",
    "for i,f in files.items():\n",
    "\n",
    "    fOut = filesOut[i]; \n",
    "    print(i,f,fOut);\n",
    "    fig = plt.figure(\"MVBBTest\" + str(i),(10,10))\n",
    "    \n",
    "    \n",
    "    points = readPointsMatrixBinary(f[\"path\"]); points=np.reshape(points,(-1,3)) \n",
    "    OOBB = np.atleast_2d(np.loadtxt(fOut[\"path\"]));\n",
    "\n",
    "    K_min = OOBB[0,0:3]\n",
    "    K_max = OOBB[1,0:3]\n",
    "    A_IK = OOBB[2:5,0:3]\n",
    "    center = np.zeros((3,));\n",
    "    print(A_IK,K_min,K_max,center)\n",
    "    \n",
    "    ax = Axes3D(fig)\n",
    "    if(len(points) < 10000):\n",
    "        ax.scatter(points.T[0],points.T[1],points.T[2],c='b')\n",
    "    else:\n",
    "        ax.scatter(points.T[0][0:10000],points.T[1][0:10000],points.T[2][0:10000],c='b')\n",
    "        \n",
    "    plotCube(ax,K_min,K_max,center,A_IK) # A_IK = R_KI (rotation from I to K)\n",
    "    plotAxis(ax,center,A_IK,1)\n",
    "    plotAxis(ax,center,np.identity(3),0.5)\n",
    "    axisEqual3D(ax)"
   ]
  },
  {
   "cell_type": "code",
   "execution_count": null,
   "metadata": {
    "collapsed": false
   },
   "outputs": [],
   "source": []
  }
 ],
 "metadata": {
  "celltoolbar": "Initialisation Cell",
  "kernelspec": {
   "display_name": "Python 3",
   "language": "python",
   "name": "python3"
  },
  "language_info": {
   "codemirror_mode": {
    "name": "ipython",
    "version": 3
   },
   "file_extension": ".py",
   "mimetype": "text/x-python",
   "name": "python",
   "nbconvert_exporter": "python",
   "pygments_lexer": "ipython3",
   "version": "3.4.3"
  }
 },
 "nbformat": 4,
 "nbformat_minor": 0
}
